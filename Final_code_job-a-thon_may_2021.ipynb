{
 "cells": [
  {
   "cell_type": "code",
   "execution_count": 1,
   "id": "e2c087e4",
   "metadata": {},
   "outputs": [],
   "source": [
    "#import libaries\n",
    "import pandas as pd\n",
    "import numpy as np\n",
    "import matplotlib.pyplot as  plt\n",
    "import seaborn as sns\n",
    "from datetime import datetime\n",
    "import datetime"
   ]
  },
  {
   "cell_type": "code",
   "execution_count": 2,
   "id": "06f6cc57",
   "metadata": {},
   "outputs": [],
   "source": [
    "col_list=[\"VisitDateTime\",\"ProductID\",\"UserID\",\"Activity\",\"OS\"]"
   ]
  },
  {
   "cell_type": "code",
   "execution_count": 3,
   "id": "4c65b7a6",
   "metadata": {},
   "outputs": [],
   "source": [
    "vis=pd.read_csv(\"VisitorLogsData.csv\",usecols=col_list)"
   ]
  },
  {
   "cell_type": "code",
   "execution_count": 4,
   "id": "f90ffb07",
   "metadata": {},
   "outputs": [],
   "source": [
    "vis=vis.dropna(subset=[\"UserID\"])"
   ]
  },
  {
   "cell_type": "code",
   "execution_count": 5,
   "id": "67ae06ac",
   "metadata": {},
   "outputs": [],
   "source": [
    "vis[\"Activity\"]=vis[\"Activity\"].str.lower()"
   ]
  },
  {
   "cell_type": "code",
   "execution_count": 6,
   "id": "3bc347a3",
   "metadata": {},
   "outputs": [],
   "source": [
    "vis.Activity.fillna(value=\"pageload\",inplace=True)#if he has not clicked it can be assumed to be browsing"
   ]
  },
  {
   "cell_type": "code",
   "execution_count": 7,
   "id": "d36e68b4",
   "metadata": {},
   "outputs": [],
   "source": [
    "vis[\"ProductID\"]=vis[\"ProductID\"].str.title()#after seeing values we found out disperancy in casig converting to camel case"
   ]
  },
  {
   "cell_type": "code",
   "execution_count": 8,
   "id": "cb010cb9",
   "metadata": {},
   "outputs": [],
   "source": [
    "vis.ProductID.fillna(value=\"Product101\",inplace=True)#giving in question"
   ]
  },
  {
   "cell_type": "code",
   "execution_count": 9,
   "id": "05081356",
   "metadata": {},
   "outputs": [],
   "source": [
    "vis[\"OS\"]=vis[\"OS\"].str.lower()"
   ]
  },
  {
   "cell_type": "code",
   "execution_count": 10,
   "id": "dc9c5f2c",
   "metadata": {},
   "outputs": [],
   "source": [
    "most_frequent_os=vis.OS.max()"
   ]
  },
  {
   "cell_type": "code",
   "execution_count": 11,
   "id": "bde4bf8b",
   "metadata": {},
   "outputs": [],
   "source": [
    "vis['OS']=vis.OS.mask(vis['OS'].map(vis['OS'].value_counts(normalize=True)) < 0.05, 'rare')#less than 5%\n"
   ]
  },
  {
   "cell_type": "code",
   "execution_count": 12,
   "id": "87af6e92",
   "metadata": {},
   "outputs": [],
   "source": [
    "vis.VisitDateTime.fillna(\"2018-05-07 00:00:01\",inplace=True)#notdroping as time is the most imp feature and we can't oblige it"
   ]
  },
  {
   "cell_type": "code",
   "execution_count": 13,
   "id": "3abf8069",
   "metadata": {},
   "outputs": [],
   "source": [
    "vis[\"VisitDateTime\"]=vis[\"VisitDateTime\"].astype(\"category\")\n",
    "vis[\"VisitDateTime\"]=vis[\"VisitDateTime\"].astype('datetime64[ns]')"
   ]
  },
  {
   "cell_type": "code",
   "execution_count": 14,
   "id": "11708e31",
   "metadata": {},
   "outputs": [],
   "source": [
    "vis=vis[vis[\"VisitDateTime\"]>\"1994-01-01\"]\n",
    "vis=vis[vis[\"VisitDateTime\"]<\"2018-05-28\"]"
   ]
  },
  {
   "cell_type": "code",
   "execution_count": 15,
   "id": "402b34a0",
   "metadata": {},
   "outputs": [],
   "source": [
    "vis[\"Date\"]=pd.to_datetime(vis[\"VisitDateTime\"]).dt.date"
   ]
  },
  {
   "cell_type": "code",
   "execution_count": 16,
   "id": "18f85186",
   "metadata": {},
   "outputs": [],
   "source": [
    "vis[\"Date\"]=vis[\"Date\"].astype(\"category\")\n",
    "vis[\"Date\"]=vis[\"Date\"].astype('datetime64[ns]')"
   ]
  },
  {
   "cell_type": "code",
   "execution_count": 17,
   "id": "84b2ae8d",
   "metadata": {},
   "outputs": [],
   "source": [
    "last_day=datetime.datetime(2018,5,28)"
   ]
  },
  {
   "cell_type": "code",
   "execution_count": 18,
   "id": "fa8878fc",
   "metadata": {},
   "outputs": [],
   "source": [
    "vis[\"vintage\"]=-(vis[\"Date\"]-last_day)"
   ]
  },
  {
   "cell_type": "code",
   "execution_count": 19,
   "id": "c91ebc58",
   "metadata": {},
   "outputs": [],
   "source": [
    "vis[\"vintage\"]=vis[\"vintage\"].dt.days"
   ]
  },
  {
   "cell_type": "code",
   "execution_count": 20,
   "id": "0fecdeff",
   "metadata": {},
   "outputs": [],
   "source": [
    "user_vintage=vis.groupby([\"UserID\"])[\"vintage\"].max()"
   ]
  },
  {
   "cell_type": "code",
   "execution_count": 21,
   "id": "50bfbca4",
   "metadata": {},
   "outputs": [
    {
     "data": {
      "text/plain": [
       "UserID\n",
       "U100002      10\n",
       "U100003      15\n",
       "U100004      21\n",
       "U100005      21\n",
       "U100006       7\n",
       "           ... \n",
       "U136959      21\n",
       "U136961      21\n",
       "U136963    2902\n",
       "U136964      21\n",
       "U136965      21\n",
       "Name: vintage, Length: 33457, dtype: int64"
      ]
     },
     "execution_count": 21,
     "metadata": {},
     "output_type": "execute_result"
    }
   ],
   "source": [
    "user_vintage"
   ]
  },
  {
   "cell_type": "code",
   "execution_count": 22,
   "id": "614003f7",
   "metadata": {},
   "outputs": [],
   "source": [
    "sample_submission=pd.read_csv(\"sample_submission_M7Vpb9f.csv\")"
   ]
  },
  {
   "cell_type": "code",
   "execution_count": 23,
   "id": "5663e81e",
   "metadata": {},
   "outputs": [],
   "source": [
    "feature= pd.merge(\n",
    "    left=sample_submission,\n",
    "    right=user_vintage,\n",
    "    how=\"left\",\n",
    "    on='UserID',\n",
    "    copy=True)"
   ]
  },
  {
   "cell_type": "code",
   "execution_count": 24,
   "id": "1de74f77",
   "metadata": {},
   "outputs": [],
   "source": [
    "feature[\"User_Vintage\"]=feature[\"vintage\"]"
   ]
  },
  {
   "cell_type": "code",
   "execution_count": 25,
   "id": "aafbddf4",
   "metadata": {},
   "outputs": [],
   "source": [
    "feature.drop(columns=\"vintage\",inplace=True)"
   ]
  },
  {
   "cell_type": "code",
   "execution_count": 26,
   "id": "69708f6c",
   "metadata": {},
   "outputs": [],
   "source": [
    "feature.fillna(value=0,inplace=True)"
   ]
  },
  {
   "cell_type": "code",
   "execution_count": 27,
   "id": "cd96c40c",
   "metadata": {},
   "outputs": [],
   "source": [
    "vis=vis[vis['Date']>\"2018-05-07\"]"
   ]
  },
  {
   "cell_type": "code",
   "execution_count": 28,
   "id": "dd18e352",
   "metadata": {},
   "outputs": [],
   "source": [
    "Most_Active_OS=vis.groupby([\"UserID\"])[\"OS\"].max()"
   ]
  },
  {
   "cell_type": "code",
   "execution_count": 29,
   "id": "f3768f14",
   "metadata": {},
   "outputs": [],
   "source": [
    "feature= pd.merge(\n",
    "    left=feature,\n",
    "    right=Most_Active_OS,\n",
    "    how=\"left\",\n",
    "    on='UserID',\n",
    "    copy=True)"
   ]
  },
  {
   "cell_type": "code",
   "execution_count": 30,
   "id": "aff1eb93",
   "metadata": {},
   "outputs": [],
   "source": [
    "feature[\"Most_Active_OS\"]=feature[\"OS\"]"
   ]
  },
  {
   "cell_type": "code",
   "execution_count": 31,
   "id": "a6513fb1",
   "metadata": {},
   "outputs": [],
   "source": [
    "feature.drop(columns=[\"OS\"],inplace=True)"
   ]
  },
  {
   "cell_type": "code",
   "execution_count": 32,
   "id": "e94c28af",
   "metadata": {},
   "outputs": [],
   "source": [
    "feature.Most_Active_OS.fillna(value=most_frequent_os,inplace=True)#filling na with most frequent os"
   ]
  },
  {
   "cell_type": "code",
   "execution_count": 33,
   "id": "5210fa0d",
   "metadata": {},
   "outputs": [],
   "source": [
    "Recently_Viewed_Product=vis.groupby(['UserID'])['ProductID'].max()"
   ]
  },
  {
   "cell_type": "code",
   "execution_count": 34,
   "id": "52811b20",
   "metadata": {},
   "outputs": [],
   "source": [
    "feature= pd.merge(\n",
    "    left=feature,\n",
    "    right=Recently_Viewed_Product,\n",
    "    how=\"left\",\n",
    "    on='UserID',\n",
    "    copy=True)"
   ]
  },
  {
   "cell_type": "code",
   "execution_count": 35,
   "id": "93aa4592",
   "metadata": {},
   "outputs": [],
   "source": [
    "feature['Recently_Viewed_Product']=feature['ProductID']"
   ]
  },
  {
   "cell_type": "code",
   "execution_count": 36,
   "id": "fb85eddd",
   "metadata": {},
   "outputs": [],
   "source": [
    "feature.drop(columns=\"ProductID\",inplace=True)"
   ]
  },
  {
   "cell_type": "code",
   "execution_count": 37,
   "id": "27ebd808",
   "metadata": {},
   "outputs": [],
   "source": [
    "feature.Recently_Viewed_Product.fillna(value=\"Product101\",inplace=True)"
   ]
  },
  {
   "cell_type": "code",
   "execution_count": 38,
   "id": "3dab0f1c",
   "metadata": {},
   "outputs": [
    {
     "data": {
      "text/html": [
       "<div>\n",
       "<style scoped>\n",
       "    .dataframe tbody tr th:only-of-type {\n",
       "        vertical-align: middle;\n",
       "    }\n",
       "\n",
       "    .dataframe tbody tr th {\n",
       "        vertical-align: top;\n",
       "    }\n",
       "\n",
       "    .dataframe thead th {\n",
       "        text-align: right;\n",
       "    }\n",
       "</style>\n",
       "<table border=\"1\" class=\"dataframe\">\n",
       "  <thead>\n",
       "    <tr style=\"text-align: right;\">\n",
       "      <th></th>\n",
       "      <th>UserID</th>\n",
       "      <th>No_of_days_Visited_7_Days</th>\n",
       "      <th>No_Of_Products_Viewed_15_Days</th>\n",
       "      <th>User_Vintage</th>\n",
       "      <th>Most_Viewed_product_15_Days</th>\n",
       "      <th>Most_Active_OS</th>\n",
       "      <th>Recently_Viewed_Product</th>\n",
       "      <th>Pageloads_last_7_days</th>\n",
       "      <th>Clicks_last_7_days</th>\n",
       "    </tr>\n",
       "  </thead>\n",
       "  <tbody>\n",
       "    <tr>\n",
       "      <th>0</th>\n",
       "      <td>U100002</td>\n",
       "      <td>1</td>\n",
       "      <td>1</td>\n",
       "      <td>10.0</td>\n",
       "      <td>P12345</td>\n",
       "      <td>android</td>\n",
       "      <td>Pr101097</td>\n",
       "      <td>1</td>\n",
       "      <td>1</td>\n",
       "    </tr>\n",
       "    <tr>\n",
       "      <th>1</th>\n",
       "      <td>U100003</td>\n",
       "      <td>1</td>\n",
       "      <td>1</td>\n",
       "      <td>15.0</td>\n",
       "      <td>P12345</td>\n",
       "      <td>windows</td>\n",
       "      <td>Product101</td>\n",
       "      <td>1</td>\n",
       "      <td>1</td>\n",
       "    </tr>\n",
       "    <tr>\n",
       "      <th>2</th>\n",
       "      <td>U100004</td>\n",
       "      <td>1</td>\n",
       "      <td>1</td>\n",
       "      <td>21.0</td>\n",
       "      <td>P12345</td>\n",
       "      <td>windows</td>\n",
       "      <td>Product101</td>\n",
       "      <td>1</td>\n",
       "      <td>1</td>\n",
       "    </tr>\n",
       "    <tr>\n",
       "      <th>3</th>\n",
       "      <td>U100005</td>\n",
       "      <td>1</td>\n",
       "      <td>1</td>\n",
       "      <td>21.0</td>\n",
       "      <td>P12345</td>\n",
       "      <td>android</td>\n",
       "      <td>Pr102072</td>\n",
       "      <td>1</td>\n",
       "      <td>1</td>\n",
       "    </tr>\n",
       "    <tr>\n",
       "      <th>4</th>\n",
       "      <td>U100006</td>\n",
       "      <td>1</td>\n",
       "      <td>1</td>\n",
       "      <td>7.0</td>\n",
       "      <td>P12345</td>\n",
       "      <td>android</td>\n",
       "      <td>Pr101111</td>\n",
       "      <td>1</td>\n",
       "      <td>1</td>\n",
       "    </tr>\n",
       "  </tbody>\n",
       "</table>\n",
       "</div>"
      ],
      "text/plain": [
       "    UserID  No_of_days_Visited_7_Days  No_Of_Products_Viewed_15_Days  \\\n",
       "0  U100002                          1                              1   \n",
       "1  U100003                          1                              1   \n",
       "2  U100004                          1                              1   \n",
       "3  U100005                          1                              1   \n",
       "4  U100006                          1                              1   \n",
       "\n",
       "   User_Vintage Most_Viewed_product_15_Days Most_Active_OS  \\\n",
       "0          10.0                      P12345        android   \n",
       "1          15.0                      P12345        windows   \n",
       "2          21.0                      P12345        windows   \n",
       "3          21.0                      P12345        android   \n",
       "4           7.0                      P12345        android   \n",
       "\n",
       "  Recently_Viewed_Product  Pageloads_last_7_days  Clicks_last_7_days  \n",
       "0                Pr101097                      1                   1  \n",
       "1              Product101                      1                   1  \n",
       "2              Product101                      1                   1  \n",
       "3                Pr102072                      1                   1  \n",
       "4                Pr101111                      1                   1  "
      ]
     },
     "execution_count": 38,
     "metadata": {},
     "output_type": "execute_result"
    }
   ],
   "source": [
    "feature.head()"
   ]
  },
  {
   "cell_type": "code",
   "execution_count": 39,
   "id": "ed8d980c",
   "metadata": {},
   "outputs": [],
   "source": [
    "usr=pd.read_csv(\"userTable.csv\")"
   ]
  },
  {
   "cell_type": "code",
   "execution_count": 40,
   "id": "771d8caf",
   "metadata": {},
   "outputs": [],
   "source": [
    "usr[\"Signup Date\"]=usr[\"Signup Date\"].astype(\"datetime64[ns]\")"
   ]
  },
  {
   "cell_type": "code",
   "execution_count": 41,
   "id": "917f9056",
   "metadata": {},
   "outputs": [],
   "source": [
    "combined_data=pd.merge(left=vis,right=usr,how=\"left\",on=\"UserID\",copy=True)"
   ]
  },
  {
   "cell_type": "code",
   "execution_count": 42,
   "id": "53ce2dd2",
   "metadata": {},
   "outputs": [],
   "source": [
    "#combined_data.info()"
   ]
  },
  {
   "cell_type": "code",
   "execution_count": 43,
   "id": "7b825f4e",
   "metadata": {},
   "outputs": [],
   "source": [
    "combined_data=combined_data[combined_data[\"Date\"]>\"2018-05-13\"]"
   ]
  },
  {
   "cell_type": "code",
   "execution_count": 44,
   "id": "8e12d056",
   "metadata": {},
   "outputs": [],
   "source": [
    "No_Of_Products_Viewed_15_Days=combined_data.groupby([\"UserID\"])[\"ProductID\"].count()"
   ]
  },
  {
   "cell_type": "code",
   "execution_count": 45,
   "id": "8aae730f",
   "metadata": {},
   "outputs": [],
   "source": [
    "feature= pd.merge(\n",
    "    left=feature,\n",
    "    right=No_Of_Products_Viewed_15_Days,\n",
    "    how=\"left\",\n",
    "    on='UserID',\n",
    "    copy=True)"
   ]
  },
  {
   "cell_type": "code",
   "execution_count": 46,
   "id": "05f37d1b",
   "metadata": {},
   "outputs": [],
   "source": [
    "feature[\"No_Of_Products_Viewed_15_Days\"]=feature[\"ProductID\"]"
   ]
  },
  {
   "cell_type": "code",
   "execution_count": 47,
   "id": "4f5d98b1",
   "metadata": {},
   "outputs": [],
   "source": [
    "feature.drop(columns=\"ProductID\",inplace=True)"
   ]
  },
  {
   "cell_type": "code",
   "execution_count": 48,
   "id": "ad27ae1b",
   "metadata": {},
   "outputs": [],
   "source": [
    "feature.No_Of_Products_Viewed_15_Days.fillna(value=0,inplace=True)#not viwed any product in last 15 days"
   ]
  },
  {
   "cell_type": "code",
   "execution_count": 49,
   "id": "da99241a",
   "metadata": {},
   "outputs": [],
   "source": [
    "combined_data_pageload=combined_data[combined_data[\"Activity\"]==\"pageload\"]"
   ]
  },
  {
   "cell_type": "code",
   "execution_count": 50,
   "id": "f1e6757a",
   "metadata": {},
   "outputs": [],
   "source": [
    "Most_Viewed_product_15_Days=combined_data_pageload.groupby([\"UserID\"])[\"ProductID\"].max()"
   ]
  },
  {
   "cell_type": "code",
   "execution_count": 51,
   "id": "d9f8e1f2",
   "metadata": {},
   "outputs": [],
   "source": [
    "feature= pd.merge(\n",
    "    left=feature,\n",
    "    right=Most_Viewed_product_15_Days,\n",
    "    how=\"left\",\n",
    "    on='UserID',\n",
    "    copy=True)"
   ]
  },
  {
   "cell_type": "code",
   "execution_count": 52,
   "id": "986d35cf",
   "metadata": {},
   "outputs": [],
   "source": [
    "feature[\"Most_Viewed_product_15_Days\"]=feature[\"ProductID\"]"
   ]
  },
  {
   "cell_type": "code",
   "execution_count": 53,
   "id": "9d443ca9",
   "metadata": {},
   "outputs": [],
   "source": [
    "feature.drop(columns=\"ProductID\",inplace=True)"
   ]
  },
  {
   "cell_type": "code",
   "execution_count": 54,
   "id": "99115394",
   "metadata": {},
   "outputs": [],
   "source": [
    "feature.Most_Viewed_product_15_Days.fillna(value=\"Product101\",inplace=True)#given in question"
   ]
  },
  {
   "cell_type": "code",
   "execution_count": 55,
   "id": "948c7ac0",
   "metadata": {},
   "outputs": [],
   "source": [
    "combined_data=combined_data[combined_data[\"Date\"]>\"2018-05-21\"]"
   ]
  },
  {
   "cell_type": "code",
   "execution_count": 57,
   "id": "b473c28a",
   "metadata": {},
   "outputs": [],
   "source": [
    "No_of_days_Visited_7_Days=combined_data.groupby([\"UserID\",\"Date\"])[\"Date\"].count()"
   ]
  },
  {
   "cell_type": "code",
   "execution_count": 58,
   "id": "09d598cc",
   "metadata": {},
   "outputs": [],
   "source": [
    "feature= pd.merge(\n",
    "    left=feature,\n",
    "    right=No_of_days_Visited_7_Days,\n",
    "    how=\"left\",\n",
    "    on='UserID',\n",
    "    copy=True)"
   ]
  },
  {
   "cell_type": "code",
   "execution_count": 61,
   "id": "fd591289",
   "metadata": {},
   "outputs": [],
   "source": [
    "feature[\"No_of_days_Visited_7_Days\"]=feature[\"Date\"]"
   ]
  },
  {
   "cell_type": "code",
   "execution_count": 63,
   "id": "972d7dce",
   "metadata": {},
   "outputs": [],
   "source": [
    "feature.drop(columns=[\"Date\"],inplace=True)"
   ]
  },
  {
   "cell_type": "code",
   "execution_count": 64,
   "id": "4437bca4",
   "metadata": {},
   "outputs": [],
   "source": [
    "feature.No_of_days_Visited_7_Days.fillna(value=0,inplace=True)"
   ]
  },
  {
   "cell_type": "code",
   "execution_count": 65,
   "id": "cfd112ff",
   "metadata": {},
   "outputs": [],
   "source": [
    "combined_data_pageload=combined_data_pageload[combined_data_pageload[\"Date\"]>\"2018-05-20\"]"
   ]
  },
  {
   "cell_type": "code",
   "execution_count": 66,
   "id": "eadb9338",
   "metadata": {},
   "outputs": [],
   "source": [
    "Pageloads_last_7_days=combined_data_pageload.groupby([\"UserID\"])[\"Activity\"].count()"
   ]
  },
  {
   "cell_type": "code",
   "execution_count": 67,
   "id": "a033e154",
   "metadata": {},
   "outputs": [],
   "source": [
    "feature= pd.merge(\n",
    "    left=feature,\n",
    "    right=Pageloads_last_7_days,\n",
    "    how=\"left\",\n",
    "    on='UserID',\n",
    "    copy=True)"
   ]
  },
  {
   "cell_type": "code",
   "execution_count": 68,
   "id": "6d544a26",
   "metadata": {},
   "outputs": [],
   "source": [
    "feature[\"Pageloads_last_7_days\"]=feature[\"Activity\"]"
   ]
  },
  {
   "cell_type": "code",
   "execution_count": 69,
   "id": "4b11f748",
   "metadata": {},
   "outputs": [],
   "source": [
    "feature.drop(columns=\"Activity\",inplace=True)"
   ]
  },
  {
   "cell_type": "code",
   "execution_count": 70,
   "id": "67ffa535",
   "metadata": {},
   "outputs": [],
   "source": [
    "feature.Pageloads_last_7_days.fillna(value=0,inplace=True)"
   ]
  },
  {
   "cell_type": "code",
   "execution_count": 71,
   "id": "3370a38c",
   "metadata": {},
   "outputs": [],
   "source": [
    "combined_data=combined_data[combined_data[\"Activity\"]==\"click\"]"
   ]
  },
  {
   "cell_type": "code",
   "execution_count": 72,
   "id": "e3f3dbf2",
   "metadata": {},
   "outputs": [],
   "source": [
    "Clicks_last_7_days=combined_data.groupby([\"UserID\"])[\"Activity\"].count()"
   ]
  },
  {
   "cell_type": "code",
   "execution_count": 73,
   "id": "b53c9c05",
   "metadata": {},
   "outputs": [],
   "source": [
    "feature= pd.merge(\n",
    "    left=feature,\n",
    "    right=Clicks_last_7_days,\n",
    "    how=\"left\",\n",
    "    on='UserID',\n",
    "    copy=True)"
   ]
  },
  {
   "cell_type": "code",
   "execution_count": 74,
   "id": "7738031b",
   "metadata": {},
   "outputs": [],
   "source": [
    "feature[\"Clicks_last_7_days\"]=feature[\"Activity\"]"
   ]
  },
  {
   "cell_type": "code",
   "execution_count": 75,
   "id": "a8dadeea",
   "metadata": {},
   "outputs": [],
   "source": [
    "feature.drop(columns=\"Activity\",inplace=True)"
   ]
  },
  {
   "cell_type": "code",
   "execution_count": 76,
   "id": "1f0e1539",
   "metadata": {},
   "outputs": [],
   "source": [
    "feature.Clicks_last_7_days.fillna(value=0,inplace=True)#not active"
   ]
  },
  {
   "cell_type": "code",
   "execution_count": 77,
   "id": "878f4a11",
   "metadata": {},
   "outputs": [
    {
     "data": {
      "text/html": [
       "<div>\n",
       "<style scoped>\n",
       "    .dataframe tbody tr th:only-of-type {\n",
       "        vertical-align: middle;\n",
       "    }\n",
       "\n",
       "    .dataframe tbody tr th {\n",
       "        vertical-align: top;\n",
       "    }\n",
       "\n",
       "    .dataframe thead th {\n",
       "        text-align: right;\n",
       "    }\n",
       "</style>\n",
       "<table border=\"1\" class=\"dataframe\">\n",
       "  <thead>\n",
       "    <tr style=\"text-align: right;\">\n",
       "      <th></th>\n",
       "      <th>UserID</th>\n",
       "      <th>No_of_days_Visited_7_Days</th>\n",
       "      <th>No_Of_Products_Viewed_15_Days</th>\n",
       "      <th>User_Vintage</th>\n",
       "      <th>Most_Viewed_product_15_Days</th>\n",
       "      <th>Most_Active_OS</th>\n",
       "      <th>Recently_Viewed_Product</th>\n",
       "      <th>Pageloads_last_7_days</th>\n",
       "      <th>Clicks_last_7_days</th>\n",
       "    </tr>\n",
       "  </thead>\n",
       "  <tbody>\n",
       "    <tr>\n",
       "      <th>0</th>\n",
       "      <td>U100002</td>\n",
       "      <td>0.0</td>\n",
       "      <td>4.0</td>\n",
       "      <td>10.0</td>\n",
       "      <td>Pr101097</td>\n",
       "      <td>android</td>\n",
       "      <td>Pr101097</td>\n",
       "      <td>0.0</td>\n",
       "      <td>0.0</td>\n",
       "    </tr>\n",
       "    <tr>\n",
       "      <th>1</th>\n",
       "      <td>U100003</td>\n",
       "      <td>3.0</td>\n",
       "      <td>3.0</td>\n",
       "      <td>15.0</td>\n",
       "      <td>Pr100079</td>\n",
       "      <td>windows</td>\n",
       "      <td>Product101</td>\n",
       "      <td>1.0</td>\n",
       "      <td>2.0</td>\n",
       "    </tr>\n",
       "    <tr>\n",
       "      <th>2</th>\n",
       "      <td>U100004</td>\n",
       "      <td>0.0</td>\n",
       "      <td>20.0</td>\n",
       "      <td>21.0</td>\n",
       "      <td>Product101</td>\n",
       "      <td>windows</td>\n",
       "      <td>Product101</td>\n",
       "      <td>1.0</td>\n",
       "      <td>0.0</td>\n",
       "    </tr>\n",
       "    <tr>\n",
       "      <th>3</th>\n",
       "      <td>U100005</td>\n",
       "      <td>2.0</td>\n",
       "      <td>4.0</td>\n",
       "      <td>21.0</td>\n",
       "      <td>Pr102072</td>\n",
       "      <td>android</td>\n",
       "      <td>Pr102072</td>\n",
       "      <td>2.0</td>\n",
       "      <td>0.0</td>\n",
       "    </tr>\n",
       "    <tr>\n",
       "      <th>4</th>\n",
       "      <td>U100006</td>\n",
       "      <td>0.0</td>\n",
       "      <td>1.0</td>\n",
       "      <td>7.0</td>\n",
       "      <td>Pr101111</td>\n",
       "      <td>android</td>\n",
       "      <td>Pr101111</td>\n",
       "      <td>1.0</td>\n",
       "      <td>0.0</td>\n",
       "    </tr>\n",
       "  </tbody>\n",
       "</table>\n",
       "</div>"
      ],
      "text/plain": [
       "    UserID  No_of_days_Visited_7_Days  No_Of_Products_Viewed_15_Days  \\\n",
       "0  U100002                        0.0                            4.0   \n",
       "1  U100003                        3.0                            3.0   \n",
       "2  U100004                        0.0                           20.0   \n",
       "3  U100005                        2.0                            4.0   \n",
       "4  U100006                        0.0                            1.0   \n",
       "\n",
       "   User_Vintage Most_Viewed_product_15_Days Most_Active_OS  \\\n",
       "0          10.0                    Pr101097        android   \n",
       "1          15.0                    Pr100079        windows   \n",
       "2          21.0                  Product101        windows   \n",
       "3          21.0                    Pr102072        android   \n",
       "4           7.0                    Pr101111        android   \n",
       "\n",
       "  Recently_Viewed_Product  Pageloads_last_7_days  Clicks_last_7_days  \n",
       "0                Pr101097                    0.0                 0.0  \n",
       "1              Product101                    1.0                 2.0  \n",
       "2              Product101                    1.0                 0.0  \n",
       "3                Pr102072                    2.0                 0.0  \n",
       "4                Pr101111                    1.0                 0.0  "
      ]
     },
     "execution_count": 77,
     "metadata": {},
     "output_type": "execute_result"
    }
   ],
   "source": [
    "feature.head()"
   ]
  },
  {
   "cell_type": "code",
   "execution_count": 78,
   "id": "4ff8f48b",
   "metadata": {},
   "outputs": [],
   "source": [
    "feature=feature.astype({'No_of_days_Visited_7_Days':'int','Pageloads_last_7_days':'int','Clicks_last_7_days':'int','No_Of_Products_Viewed_15_Days':'int','User_Vintage':'int'})"
   ]
  },
  {
   "cell_type": "code",
   "execution_count": 79,
   "id": "fc4fe45a",
   "metadata": {},
   "outputs": [],
   "source": [
    "feature.to_csv(\"final.csv\",index=False)"
   ]
  },
  {
   "cell_type": "code",
   "execution_count": null,
   "id": "2b2427fc",
   "metadata": {},
   "outputs": [],
   "source": []
  }
 ],
 "metadata": {
  "kernelspec": {
   "display_name": "Python 3",
   "language": "python",
   "name": "python3"
  },
  "language_info": {
   "codemirror_mode": {
    "name": "ipython",
    "version": 3
   },
   "file_extension": ".py",
   "mimetype": "text/x-python",
   "name": "python",
   "nbconvert_exporter": "python",
   "pygments_lexer": "ipython3",
   "version": "3.8.8"
  }
 },
 "nbformat": 4,
 "nbformat_minor": 5
}
